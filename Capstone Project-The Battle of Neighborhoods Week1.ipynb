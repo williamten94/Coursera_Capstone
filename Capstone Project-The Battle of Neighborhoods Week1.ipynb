{
 "cells": [
  {
   "cell_type": "markdown",
   "metadata": {},
   "source": [
    "# Capstone Project-The Battle of Neighborhoods Week1"
   ]
  },
  {
   "cell_type": "markdown",
   "metadata": {},
   "source": [
    "## Introduction- Business oportunity in Selangor"
   ]
  },
  {
   "cell_type": "markdown",
   "metadata": {},
   "source": [
    "Selangor also known by its Arabic honorific Darul Ehsan, or \"Abode of Sincerity\", is one of the 13 states of Malaysia. It is on the west coast of Peninsular Malaysia and is bordered by Perak to the north, Pahang to the east, Negeri Sembilan to the south and the Strait of Malacca to the west. Selangor surrounds the federal territories of Kuala Lumpur and Putrajaya, both of which were previously part of it.\n",
    "\n",
    "The state capital of Selangor is Shah Alam and its royal capital is Klang. Petaling Jaya and Subang Jaya received city status in 2006 and 2019, respectively.Selangor is one of four Malaysian states that contain more than one city with official city status; the others are Sarawak, Johor, and Penang.\n",
    "\n",
    "The state of Selangor has the largest economy in Malaysia in terms of gross domestic product (GDP), with RM 239.968 billion (roughly US$55.5 billion) in 2015, comprising 22.6 percent of the country's GDP. It is the most developed state in Malaysia, and has the largest population and the lowest poverty rate in the country.\n",
    "\n",
    "Kuala Lumpur is the capital of Malaysia. Its modern skyline is dominated by the 451m-tall Petronas Twin Towers, a pair of glass-and-steel-clad skyscrapers with Islamic motifs. The towers also offer a public skybridge and observation deck. The city is also home to British colonial-era landmarks such as the Kuala Lumpur Railway Station and the Sultan Abdul Samad Building\n",
    "\n",
    "Kuala Lumpur is the cultural, financial and economic centre of Malaysia. It is also home to the Parliament of Malaysia and the official residence of the Yang di-Pertuan Agong, the Istana Negara. It first developed as a town serving the tin mines of the region circa 1857, before it became the capital of Selangor in 1880 until 1978, and the capital of Malaya before the formation of Malaysia. The city remained the seat of the executive and judicial branches of the federal government until these were relocated to Putrajaya in early 1999. However, some sections of the political bodies still remain in Kuala Lumpur."
   ]
  },
  {
   "cell_type": "markdown",
   "metadata": {},
   "source": [
    "## Business Problem and Sources:"
   ]
  },
  {
   "cell_type": "markdown",
   "metadata": {},
   "source": [
    "The Wikipedia page https://en.wikipedia.org/wiki/Selangor#List_of_districts is the major source of data that is being used to obtain all the districts of Selangor and Foursquare API to access the venues in the neighbourhoods. List all the major parts and restaurant in Selangor. Which area are the most restaurant located. Folium visualization library can be used to visualize the clusters superimposed on the map of Selangor. These clusters will be further analyzed to help business owners selecting a potential location to open-up Hotels, Shopping Malls, Restaurants or Coffee shops."
   ]
  },
  {
   "cell_type": "markdown",
   "metadata": {},
   "source": [
    "## Target Audience:"
   ]
  },
  {
   "cell_type": "markdown",
   "metadata": {},
   "source": [
    "This analyst aim to people who want to start run their first business in Selangor. The below dataset will give them an idea on how to select a better place and what type of business is better.\n",
    "\n",
    "This report also suit people who already own a business and want to make a change for their business. The below data set will provide them some valuable information for them to make decision."
   ]
  },
  {
   "cell_type": "code",
   "execution_count": 1,
   "metadata": {},
   "outputs": [
    {
     "name": "stdout",
     "output_type": "stream",
     "text": [
      "Libraries imported.\n"
     ]
    }
   ],
   "source": [
    "import numpy as np\n",
    "import re\n",
    "import json\n",
    "import requests\n",
    "from bs4 import BeautifulSoup\n",
    "\n",
    "import pandas as pd\n",
    "#display all rows\n",
    "pd.set_option('display.max_rows', None)\n",
    "#display all columns\n",
    "pd.set_option('display.max_columns', None)\n",
    "\n",
    "from sklearn.cluster import KMeans\n",
    "from sklearn.metrics import silhouette_samples, silhouette_score\n",
    "\n",
    "from geopy.geocoders import Nominatim\n",
    "\n",
    "import folium\n",
    "\n",
    "import matplotlib.cm as cm\n",
    "import matplotlib.colors as colors\n",
    "import matplotlib.pyplot as plt\n",
    "%matplotlib inline\n",
    "\n",
    "print('Libraries imported.')"
   ]
  },
  {
   "cell_type": "code",
   "execution_count": 2,
   "metadata": {},
   "outputs": [
    {
     "name": "stdout",
     "output_type": "stream",
     "text": [
      "Your credentails:\n",
      "CLIENT_ID: YXKLDGWS5IBXLEFVYCY1M3EOZCYNHI1JWJ4RZYR1O1CDBRNE\n",
      "CLIENT_SECRET:IWRW0I5PRT1BKHAHXSMCJ2H2H25TRW02ZBCO1J4MU3025DFS\n"
     ]
    }
   ],
   "source": [
    "CLIENT_ID = 'YXKLDGWS5IBXLEFVYCY1M3EOZCYNHI1JWJ4RZYR1O1CDBRNE' # your Foursquare ID\n",
    "CLIENT_SECRET = 'IWRW0I5PRT1BKHAHXSMCJ2H2H25TRW02ZBCO1J4MU3025DFS' # your Foursquare Secret\n",
    "ACCESS_TOKEN = 'EPC2NWX1UGE2IFKRXA33TX23ZLXQTLHSDXFFIFEJ21S03RWL' # your FourSquare Access Token\n",
    "VERSION = '20180604'\n",
    "LIMIT = 30\n",
    "print('Your credentails:')\n",
    "print('CLIENT_ID: ' + CLIENT_ID)\n",
    "print('CLIENT_SECRET:' + CLIENT_SECRET)"
   ]
  },
  {
   "cell_type": "code",
   "execution_count": 3,
   "metadata": {},
   "outputs": [
    {
     "data": {
      "text/html": [
       "<div>\n",
       "<style scoped>\n",
       "    .dataframe tbody tr th:only-of-type {\n",
       "        vertical-align: middle;\n",
       "    }\n",
       "\n",
       "    .dataframe tbody tr th {\n",
       "        vertical-align: top;\n",
       "    }\n",
       "\n",
       "    .dataframe thead th {\n",
       "        text-align: right;\n",
       "    }\n",
       "</style>\n",
       "<table border=\"1\" class=\"dataframe\">\n",
       "  <thead>\n",
       "    <tr style=\"text-align: right;\">\n",
       "      <th></th>\n",
       "      <th>Rank</th>\n",
       "      <th>Local government area</th>\n",
       "      <th>State</th>\n",
       "      <th>Total population</th>\n",
       "      <th>Status</th>\n",
       "      <th>Notes</th>\n",
       "      <th>Urban area</th>\n",
       "    </tr>\n",
       "  </thead>\n",
       "  <tbody>\n",
       "    <tr>\n",
       "      <th>0</th>\n",
       "      <td>1</td>\n",
       "      <td>Kuala Lumpur</td>\n",
       "      <td>Federal Territories</td>\n",
       "      <td>1588750</td>\n",
       "      <td>City</td>\n",
       "      <td>Federal capital of Malaysia</td>\n",
       "      <td>Greater Kuala Lumpur (Klang Valley)</td>\n",
       "    </tr>\n",
       "    <tr>\n",
       "      <th>1</th>\n",
       "      <td>2</td>\n",
       "      <td>Seberang Perai</td>\n",
       "      <td>Penang</td>\n",
       "      <td>818197</td>\n",
       "      <td>City</td>\n",
       "      <td>Includes Butterworth, Bukit Mertajam, Batu Kaw...</td>\n",
       "      <td>Greater Penang</td>\n",
       "    </tr>\n",
       "    <tr>\n",
       "      <th>2</th>\n",
       "      <td>3</td>\n",
       "      <td>Kajang</td>\n",
       "      <td>Selangor</td>\n",
       "      <td>795522</td>\n",
       "      <td>Municipality</td>\n",
       "      <td>NaN</td>\n",
       "      <td>Greater Kuala Lumpur (Klang Valley)</td>\n",
       "    </tr>\n",
       "    <tr>\n",
       "      <th>3</th>\n",
       "      <td>4</td>\n",
       "      <td>Klang</td>\n",
       "      <td>Selangor</td>\n",
       "      <td>744062</td>\n",
       "      <td>Municipality</td>\n",
       "      <td>NaN</td>\n",
       "      <td>Greater Kuala Lumpur (Klang Valley)</td>\n",
       "    </tr>\n",
       "    <tr>\n",
       "      <th>4</th>\n",
       "      <td>5</td>\n",
       "      <td>Subang Jaya</td>\n",
       "      <td>Selangor</td>\n",
       "      <td>708296</td>\n",
       "      <td>City</td>\n",
       "      <td>Part of Petaling District</td>\n",
       "      <td>Greater Kuala Lumpur (Klang Valley)</td>\n",
       "    </tr>\n",
       "    <tr>\n",
       "      <th>5</th>\n",
       "      <td>6</td>\n",
       "      <td>Penang Island</td>\n",
       "      <td>Penang</td>\n",
       "      <td>708127</td>\n",
       "      <td>City</td>\n",
       "      <td>Includes George Town, the capital of Penang</td>\n",
       "      <td>Greater Penang</td>\n",
       "    </tr>\n",
       "    <tr>\n",
       "      <th>6</th>\n",
       "      <td>7</td>\n",
       "      <td>Ipoh</td>\n",
       "      <td>Perak</td>\n",
       "      <td>657892</td>\n",
       "      <td>City</td>\n",
       "      <td>Capital of Perak</td>\n",
       "      <td>Greater Ipoh (Kinta Valley)</td>\n",
       "    </tr>\n",
       "    <tr>\n",
       "      <th>7</th>\n",
       "      <td>8</td>\n",
       "      <td>Petaling Jaya</td>\n",
       "      <td>Selangor</td>\n",
       "      <td>613977</td>\n",
       "      <td>City</td>\n",
       "      <td>Part of Petaling District</td>\n",
       "      <td>Greater Kuala Lumpur (Klang Valley)</td>\n",
       "    </tr>\n",
       "    <tr>\n",
       "      <th>8</th>\n",
       "      <td>9</td>\n",
       "      <td>Selayang</td>\n",
       "      <td>Selangor</td>\n",
       "      <td>542409</td>\n",
       "      <td>Municipality</td>\n",
       "      <td>NaN</td>\n",
       "      <td>Greater Kuala Lumpur (Klang Valley)</td>\n",
       "    </tr>\n",
       "    <tr>\n",
       "      <th>9</th>\n",
       "      <td>10</td>\n",
       "      <td>Shah Alam</td>\n",
       "      <td>Selangor</td>\n",
       "      <td>541306</td>\n",
       "      <td>City</td>\n",
       "      <td>Capital of Selangor</td>\n",
       "      <td>Greater Kuala Lumpur (Klang Valley)</td>\n",
       "    </tr>\n",
       "  </tbody>\n",
       "</table>\n",
       "</div>"
      ],
      "text/plain": [
       "   Rank Local government area                State  Total population  \\\n",
       "0     1          Kuala Lumpur  Federal Territories           1588750   \n",
       "1     2        Seberang Perai               Penang            818197   \n",
       "2     3                Kajang             Selangor            795522   \n",
       "3     4                 Klang             Selangor            744062   \n",
       "4     5           Subang Jaya             Selangor            708296   \n",
       "5     6         Penang Island               Penang            708127   \n",
       "6     7                  Ipoh                Perak            657892   \n",
       "7     8         Petaling Jaya             Selangor            613977   \n",
       "8     9              Selayang             Selangor            542409   \n",
       "9    10             Shah Alam             Selangor            541306   \n",
       "\n",
       "         Status                                              Notes  \\\n",
       "0          City                        Federal capital of Malaysia   \n",
       "1          City  Includes Butterworth, Bukit Mertajam, Batu Kaw...   \n",
       "2  Municipality                                                NaN   \n",
       "3  Municipality                                                NaN   \n",
       "4          City                          Part of Petaling District   \n",
       "5          City        Includes George Town, the capital of Penang   \n",
       "6          City                                   Capital of Perak   \n",
       "7          City                          Part of Petaling District   \n",
       "8  Municipality                                                NaN   \n",
       "9          City                                Capital of Selangor   \n",
       "\n",
       "                            Urban area  \n",
       "0  Greater Kuala Lumpur (Klang Valley)  \n",
       "1                       Greater Penang  \n",
       "2  Greater Kuala Lumpur (Klang Valley)  \n",
       "3  Greater Kuala Lumpur (Klang Valley)  \n",
       "4  Greater Kuala Lumpur (Klang Valley)  \n",
       "5                       Greater Penang  \n",
       "6          Greater Ipoh (Kinta Valley)  \n",
       "7  Greater Kuala Lumpur (Klang Valley)  \n",
       "8  Greater Kuala Lumpur (Klang Valley)  \n",
       "9  Greater Kuala Lumpur (Klang Valley)  "
      ]
     },
     "execution_count": 3,
     "metadata": {},
     "output_type": "execute_result"
    }
   ],
   "source": [
    "url='https://en.wikipedia.org/wiki/List_of_districts_in_Malaysia_by_population'\n",
    "mdf=pd.read_html(url, header=0)[0]\n",
    "mdf.head(10)"
   ]
  },
  {
   "cell_type": "code",
   "execution_count": null,
   "metadata": {},
   "outputs": [],
   "source": []
  }
 ],
 "metadata": {
  "kernelspec": {
   "display_name": "Python 3",
   "language": "python",
   "name": "python3"
  },
  "language_info": {
   "codemirror_mode": {
    "name": "ipython",
    "version": 3
   },
   "file_extension": ".py",
   "mimetype": "text/x-python",
   "name": "python",
   "nbconvert_exporter": "python",
   "pygments_lexer": "ipython3",
   "version": "3.7.6"
  }
 },
 "nbformat": 4,
 "nbformat_minor": 4
}
